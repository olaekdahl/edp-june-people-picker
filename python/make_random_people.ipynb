{
 "cells": [
  {
   "cell_type": "markdown",
   "metadata": {},
   "source": [
    "# Make random people\n",
    "\n",
    "## Mission\n",
    "- Create X number random people\n",
    "- Export them to a JSON-formatted file"
   ]
  },
  {
   "cell_type": "markdown",
   "metadata": {},
   "source": [
    "## Initializations"
   ]
  },
  {
   "cell_type": "code",
   "execution_count": 6,
   "metadata": {},
   "outputs": [],
   "source": [
    "import json\n",
    "import random\n",
    "from faker import Faker\n",
    "faker = Faker()\n",
    "number_of_people = 23\n",
    "output_file_name = 'randomPeople.json'\n"
   ]
  },
  {
   "cell_type": "code",
   "execution_count": 24,
   "metadata": {},
   "outputs": [],
   "source": [
    "\n",
    "def make_random_person(max_age: int = 29) -> dict[str]:\n",
    "    '''\n",
    "    Create a random person with a random first and last name.\n",
    "    Only handles two genders for the time being\n",
    "    Inputs:\n",
    "    max_age: int\n",
    "    '''\n",
    "    age = random.randint(20,max_age)\n",
    "    is_male = random.choice([True,False])\n",
    "    random_person = {\n",
    "        'first': faker.first_name(), \n",
    "        'last': faker.last_name(), \n",
    "        'email': faker.email(), \n",
    "        'age': age,\n",
    "        'gender': 'male' if is_male else 'female', \n",
    "        'imageUrl': 'http://placeholder.com/100/100'\n",
    "        }\n",
    "    return random_person"
   ]
  },
  {
   "cell_type": "markdown",
   "metadata": {},
   "source": [
    "## Make X random people\n"
   ]
  },
  {
   "cell_type": "code",
   "execution_count": 29,
   "metadata": {},
   "outputs": [
    {
     "name": "stdout",
     "output_type": "stream",
     "text": [
      "['Michelle Carter', 'Robert Wood', 'William Hunter', 'Dominique Hernandez', 'Joshua Russell', 'Jack Hays', 'Christopher Vazquez', 'Martin Castro', 'Cody Berry', 'Chris Tucker']\n"
     ]
    }
   ],
   "source": [
    "# for (x=0 ; x<23 ; x++)\n",
    "random_people = []\n",
    "for x in range(number_of_people):\n",
    "    random_person = make_random_person(max_age='42')\n",
    "    random_people.append(random_person)\n",
    "\n",
    "# Same as above, but as a list comprehension\n",
    "# random_people = [make_random_person(max_age=42) for x in range(number_of_people)]\n"
   ]
  },
  {
   "cell_type": "markdown",
   "metadata": {},
   "source": [
    "## Save people to a file"
   ]
  },
  {
   "cell_type": "code",
   "execution_count": 10,
   "metadata": {},
   "outputs": [],
   "source": [
    "with open(output_file_name, 'w') as fout:\n",
    "    fout.write(json.dumps(random_people, indent=2))"
   ]
  }
 ],
 "metadata": {
  "kernelspec": {
   "display_name": "base",
   "language": "python",
   "name": "python3"
  },
  "language_info": {
   "codemirror_mode": {
    "name": "ipython",
    "version": 3
   },
   "file_extension": ".py",
   "mimetype": "text/x-python",
   "name": "python",
   "nbconvert_exporter": "python",
   "pygments_lexer": "ipython3",
   "version": "3.11.8"
  }
 },
 "nbformat": 4,
 "nbformat_minor": 2
}
